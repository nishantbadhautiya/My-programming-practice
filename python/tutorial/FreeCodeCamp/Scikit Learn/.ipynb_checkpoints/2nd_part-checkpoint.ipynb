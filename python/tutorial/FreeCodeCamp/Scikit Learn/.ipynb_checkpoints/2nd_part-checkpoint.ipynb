{
 "cells": [
  {
   "cell_type": "code",
   "execution_count": 1,
   "id": "d49cb65c-5abc-4ae7-9fb5-75c894e4f20c",
   "metadata": {},
   "outputs": [],
   "source": [
    "from sklearn import datasets \n",
    "import numpy as np"
   ]
  },
  {
   "cell_type": "code",
   "execution_count": 2,
   "id": "3e1155bb-92cc-4d32-96cf-d91b7eca1b20",
   "metadata": {},
   "outputs": [],
   "source": [
    "iris = datasets.load_iris() #this is our entire datasets"
   ]
  },
  {
   "cell_type": "code",
   "execution_count": null,
   "id": "f96280d9-f2db-4d91-aaed-b93f25cea2cf",
   "metadata": {},
   "outputs": [],
   "source": []
  }
 ],
 "metadata": {
  "kernelspec": {
   "display_name": "Python 3 (ipykernel)",
   "language": "python",
   "name": "python3"
  },
  "language_info": {
   "codemirror_mode": {
    "name": "ipython",
    "version": 3
   },
   "file_extension": ".py",
   "mimetype": "text/x-python",
   "name": "python",
   "nbconvert_exporter": "python",
   "pygments_lexer": "ipython3",
   "version": "3.11.6"
  }
 },
 "nbformat": 4,
 "nbformat_minor": 5
}
