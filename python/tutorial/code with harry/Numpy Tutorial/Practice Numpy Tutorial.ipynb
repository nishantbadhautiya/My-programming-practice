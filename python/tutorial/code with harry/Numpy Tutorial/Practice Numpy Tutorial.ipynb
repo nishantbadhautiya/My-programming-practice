{
 "cells": [
  {
   "cell_type": "code",
   "execution_count": 1,
   "id": "cf6f43ff-9b76-41a0-8480-4ba0826523ac",
   "metadata": {},
   "outputs": [],
   "source": [
    "import numpy as np"
   ]
  },
  {
   "cell_type": "code",
   "execution_count": 14,
   "id": "cc1a58ff-199d-495d-b317-a4dfa413e545",
   "metadata": {},
   "outputs": [
    {
     "name": "stdout",
     "output_type": "stream",
     "text": [
      "[1 2 3 4 5 6]\n"
     ]
    }
   ],
   "source": [
    "arr = np.array([1,2,3,4,5,6], dtype = 'i8')\n",
    "print(arr)"
   ]
  },
  {
   "cell_type": "code",
   "execution_count": 15,
   "id": "ce6fbc30-7bbc-47d8-9eaa-1a3f627e2f42",
   "metadata": {},
   "outputs": [
    {
     "name": "stdout",
     "output_type": "stream",
     "text": [
      "int64\n"
     ]
    }
   ],
   "source": [
    "print(arr.dtype)"
   ]
  },
  {
   "cell_type": "code",
   "execution_count": 16,
   "id": "70f786af-1257-4cf4-a99f-567252348451",
   "metadata": {},
   "outputs": [
    {
     "name": "stdout",
     "output_type": "stream",
     "text": [
      "(6,)\n",
      "1\n",
      "6\n"
     ]
    }
   ],
   "source": [
    "print(arr.shape)\n",
    "print(arr.ndim)\n",
    "print(arr.size)"
   ]
  },
  {
   "cell_type": "code",
   "execution_count": 19,
   "id": "5144a7a7-c7dc-4a5e-8c09-b1ca761675b0",
   "metadata": {},
   "outputs": [
    {
     "name": "stdout",
     "output_type": "stream",
     "text": [
      "[1 2 3 4 5 6]\n",
      "<class 'numpy.ndarray'>\n",
      "[1, 2, 3, 4, 5, 6]\n",
      "<class 'list'>\n"
     ]
    }
   ],
   "source": [
    "print(arr)\n",
    "print(type(arr))\n",
    "l = np.ndarray.tolist(arr)\n",
    "print(l)\n",
    "print(type(l))"
   ]
  },
  {
   "cell_type": "code",
   "execution_count": 20,
   "id": "db205140-85af-423c-9b76-14a4dce1e41a",
   "metadata": {},
   "outputs": [
    {
     "name": "stdout",
     "output_type": "stream",
     "text": [
      "[11 12 13 14 15]\n",
      "<class 'numpy.ndarray'>\n"
     ]
    }
   ],
   "source": [
    "tup = (11,12,13,14,15)\n",
    "arr = np.array(tup)\n",
    "print(arr)\n",
    "print(type(arr))"
   ]
  },
  {
   "cell_type": "code",
   "execution_count": 51,
   "id": "dfa4b0ac-3071-4b16-a8f8-70b7b71c8033",
   "metadata": {},
   "outputs": [
    {
     "name": "stdout",
     "output_type": "stream",
     "text": [
      "[[(0, 0, 0) (0, 0, 0) (0, 0, 0)]\n",
      " [(0, 0, 0) (0, 0, 0) (0, 0, 0)]]\n",
      "<class 'numpy.ndarray'>\n",
      "<class 'numpy.int8'>\n",
      "<class 'numpy.int16'>\n"
     ]
    }
   ],
   "source": [
    "arr = np.zeros((2,3), dtype = [('x', 'i1'),('y', 'i2'), ('z','i4')])\n",
    "print(arr)\n",
    "print(type(arr))\n",
    "print(type(arr[0,0][0]))\n",
    "print(type(arr[0,0][1]))"
   ]
  },
  {
   "cell_type": "code",
   "execution_count": 54,
   "id": "6b0e1d20-1559-42a6-81f8-4c49172ba40f",
   "metadata": {},
   "outputs": [
    {
     "name": "stdout",
     "output_type": "stream",
     "text": [
      "[('x', 'i1'), ('y', '<i2'), ('z', '<i4')]\n",
      "6\n",
      "(2, 3)\n"
     ]
    }
   ],
   "source": [
    "print(arr.dtype)\n",
    "print(arr.size)\n",
    "print(arr.shape)\n"
   ]
  },
  {
   "cell_type": "code",
   "execution_count": 61,
   "id": "d656d2de-1a8e-4557-89b9-b52e89b2c088",
   "metadata": {},
   "outputs": [
    {
     "name": "stdout",
     "output_type": "stream",
     "text": [
      "[0. 0. 0. 0. 0.]\n",
      "float64\n",
      "[0 0 0 0 0]\n",
      "int8\n"
     ]
    }
   ],
   "source": [
    "arr = np.zeros(5)\n",
    "print(arr)\n",
    "print(arr.dtype)\n",
    "arr2 = np.array(arr, dtype= 'i1')\n",
    "print(arr2)\n",
    "print(arr2.dtype)"
   ]
  },
  {
   "cell_type": "code",
   "execution_count": null,
   "id": "a65ca5b1-1589-41f3-9cd4-fb46235b2f64",
   "metadata": {},
   "outputs": [],
   "source": []
  }
 ],
 "metadata": {
  "kernelspec": {
   "display_name": "Python 3 (ipykernel)",
   "language": "python",
   "name": "python3"
  },
  "language_info": {
   "codemirror_mode": {
    "name": "ipython",
    "version": 3
   },
   "file_extension": ".py",
   "mimetype": "text/x-python",
   "name": "python",
   "nbconvert_exporter": "python",
   "pygments_lexer": "ipython3",
   "version": "3.11.3"
  }
 },
 "nbformat": 4,
 "nbformat_minor": 5
}
