{
 "cells": [
  {
   "cell_type": "code",
   "execution_count": 160,
   "id": "c59e3e04-6d25-48f9-8282-a958ce5018ed",
   "metadata": {},
   "outputs": [
    {
     "data": {
      "text/plain": [
       "array([1, 2, 3, 4], dtype=int8)"
      ]
     },
     "execution_count": 160,
     "metadata": {},
     "output_type": "execute_result"
    }
   ],
   "source": [
    "arr = np.array([1,2,3,4] , np.int8)\n",
    "arr\n",
    "# print(arr.dtype)"
   ]
  },
  {
   "cell_type": "code",
   "execution_count": 167,
   "id": "a2518695-9dc2-44d2-9dfa-8b906efb4673",
   "metadata": {},
   "outputs": [
    {
     "name": "stdout",
     "output_type": "stream",
     "text": [
      "[[0. 0. 0.]\n",
      " [0. 0. 0.]]\n",
      "float64\n",
      "6\n",
      "(2, 3)\n"
     ]
    }
   ],
   "source": [
    "arr = np.zeros((2,3))\n",
    "print(arr)\n",
    "print(arr.dtype)\n",
    "print(arr.size)\n",
    "print(arr.shape)"
   ]
  },
  {
   "cell_type": "code",
   "execution_count": 170,
   "id": "07d1e084-2536-4ccc-bef9-41d543b1a889",
   "metadata": {},
   "outputs": [
    {
     "name": "stdout",
     "output_type": "stream",
     "text": [
      "[[0 1 2 3 4]\n",
      " [5 6 7 8 9]]\n"
     ]
    }
   ],
   "source": [
    "arr = np.arange(10).reshape(2,5)\n",
    "print(arr)"
   ]
  },
  {
   "cell_type": "code",
   "execution_count": 191,
   "id": "cf5012e7-c637-4fb7-b04a-c8e72eb4589f",
   "metadata": {},
   "outputs": [
    {
     "name": "stdout",
     "output_type": "stream",
     "text": [
      "[[2.41907520e-312 6.79038654e-313 6.79038653e-313 2.37663529e-312\n",
      "  2.05833592e-312 2.41907520e-312]\n",
      " [2.56761491e-312 1.93101617e-312 9.33678148e-313 9.33678148e-313\n",
      "  9.33678148e-313 1.97345609e-312]\n",
      " [9.33678148e-313 2.12199579e-312 2.56761491e-312 2.14321575e-312\n",
      "  1.29441743e-312 8.27578359e-313]\n",
      " [2.33419537e-312 8.27578359e-313 2.12199579e-313 2.41907520e-312\n",
      "  8.66554571e+140 4.10123933e+223]]\n"
     ]
    }
   ],
   "source": [
    "arr2 = np.empty((4,6))\n",
    "print(arr2)"
   ]
  },
  {
   "cell_type": "code",
   "execution_count": 202,
   "id": "00d96bec-4dee-4b05-b52b-90ab04bdeda6",
   "metadata": {},
   "outputs": [
    {
     "name": "stdout",
     "output_type": "stream",
     "text": [
      "[0. 0. 0. 0. 0.]\n"
     ]
    }
   ],
   "source": [
    "arr = np.zeros(5)\n",
    "print(arr)"
   ]
  },
  {
   "cell_type": "code",
   "execution_count": 203,
   "id": "d8cb1760-39d0-4e09-a09c-1dba3c06889e",
   "metadata": {},
   "outputs": [
    {
     "data": {
      "text/plain": [
       "array([0., 0., 0., 0., 0.])"
      ]
     },
     "execution_count": 203,
     "metadata": {},
     "output_type": "execute_result"
    }
   ],
   "source": [
    "arr"
   ]
  },
  {
   "cell_type": "code",
   "execution_count": 204,
   "id": "e11ca0dd-b983-4288-a9d1-aa6806b448a9",
   "metadata": {},
   "outputs": [
    {
     "data": {
      "text/plain": [
       "array([[[ 0,  1],\n",
       "        [ 2,  3],\n",
       "        [ 4,  5]],\n",
       "\n",
       "       [[ 6,  7],\n",
       "        [ 8,  9],\n",
       "        [10, 11]]])"
      ]
     },
     "execution_count": 204,
     "metadata": {},
     "output_type": "execute_result"
    }
   ],
   "source": [
    "arr = np.arange(12).reshape(2,3,2)\n",
    "arr"
   ]
  },
  {
   "cell_type": "code",
   "execution_count": 208,
   "id": "cba57b17-b533-46b8-b5bf-845708d2a491",
   "metadata": {},
   "outputs": [],
   "source": [
    "arr = arr.ravel()"
   ]
  },
  {
   "cell_type": "code",
   "execution_count": 209,
   "id": "acbe5f8d-7e07-4e6a-8622-298d4b14c682",
   "metadata": {},
   "outputs": [
    {
     "data": {
      "text/plain": [
       "array([ 0,  1,  2,  3,  4,  5,  6,  7,  8,  9, 10, 11])"
      ]
     },
     "execution_count": 209,
     "metadata": {},
     "output_type": "execute_result"
    }
   ],
   "source": [
    "arr"
   ]
  },
  {
   "cell_type": "code",
   "execution_count": 210,
   "id": "5d19d10b-e677-461f-ac3e-2f7144d1081c",
   "metadata": {},
   "outputs": [
    {
     "data": {
      "text/plain": [
       "array([ 0,  1,  2,  3,  4,  5,  6,  7,  8,  9, 10, 11])"
      ]
     },
     "execution_count": 210,
     "metadata": {},
     "output_type": "execute_result"
    }
   ],
   "source": [
    "arr"
   ]
  },
  {
   "cell_type": "code",
   "execution_count": 211,
   "id": "5d1473c2-4b55-432b-9911-6e5f63aad491",
   "metadata": {},
   "outputs": [
    {
     "ename": "TypeError",
     "evalue": "'tuple' object is not callable",
     "output_type": "error",
     "traceback": [
      "\u001b[1;31m---------------------------------------------------------------------------\u001b[0m",
      "\u001b[1;31mTypeError\u001b[0m                                 Traceback (most recent call last)",
      "Cell \u001b[1;32mIn[211], line 1\u001b[0m\n\u001b[1;32m----> 1\u001b[0m \u001b[43marr\u001b[49m\u001b[38;5;241;43m.\u001b[39;49m\u001b[43mshape\u001b[49m\u001b[43m(\u001b[49m\u001b[43m)\u001b[49m\n",
      "\u001b[1;31mTypeError\u001b[0m: 'tuple' object is not callable"
     ]
    }
   ],
   "source": [
    "arr.shape()"
   ]
  },
  {
   "cell_type": "code",
   "execution_count": 212,
   "id": "69f47281-7054-48ff-b29f-6ecf38229d18",
   "metadata": {},
   "outputs": [
    {
     "data": {
      "text/plain": [
       "(12,)"
      ]
     },
     "execution_count": 212,
     "metadata": {},
     "output_type": "execute_result"
    }
   ],
   "source": [
    "arr.shape"
   ]
  },
  {
   "cell_type": "code",
   "execution_count": 221,
   "id": "0f536137-d9e2-41db-8128-9b1b0e7ca8d5",
   "metadata": {},
   "outputs": [
    {
     "name": "stdout",
     "output_type": "stream",
     "text": [
      "[[[1, 2, 3], [4, 5, 6]], [[7, 8, 9], [10, 11, 12]]]\n",
      "<class 'list'>\n",
      "[[[ 1  2  3]\n",
      "  [ 4  5  6]]\n",
      "\n",
      " [[ 7  8  9]\n",
      "  [10 11 12]]]\n",
      "12\n",
      "3\n",
      "(2, 2, 3)\n"
     ]
    }
   ],
   "source": [
    "x = [[[1,2,3],[4,5,6]], [[7,8,9], [10,11,12]]]\n",
    "print(x)\n",
    "print(type(x))\n",
    "arr = np.array(x)\n",
    "print(arr)\n",
    "print(arr.size)\n",
    "print(arr.ndim)\n",
    "print(arr.shape)"
   ]
  },
  {
   "cell_type": "code",
   "execution_count": 224,
   "id": "21fc4abf-025b-4e81-bc18-de74b14669d6",
   "metadata": {},
   "outputs": [
    {
     "name": "stdout",
     "output_type": "stream",
     "text": [
      "[[ 5  7  9]\n",
      " [17 19 21]]\n"
     ]
    }
   ],
   "source": [
    "print(arr.sum(axis = 1))"
   ]
  },
  {
   "cell_type": "code",
   "execution_count": null,
   "id": "62dff2d0-a0e0-4714-b5ac-19d6a43b4ed5",
   "metadata": {},
   "outputs": [],
   "source": []
  }
 ],
 "metadata": {
  "kernelspec": {
   "display_name": "Python 3 (ipykernel)",
   "language": "python",
   "name": "python3"
  },
  "language_info": {
   "codemirror_mode": {
    "name": "ipython",
    "version": 3
   },
   "file_extension": ".py",
   "mimetype": "text/x-python",
   "name": "python",
   "nbconvert_exporter": "python",
   "pygments_lexer": "ipython3",
   "version": "3.11.3"
  }
 },
 "nbformat": 4,
 "nbformat_minor": 5
}
